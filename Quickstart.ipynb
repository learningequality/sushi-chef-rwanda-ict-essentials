{
 "cells": [
  {
   "cell_type": "markdown",
   "metadata": {},
   "source": [
    "# Souscheffin quickstart\n",
    "\n",
    "Follow instuctions in [README.md](./README.md) for basic setup and prerequisites install.\n",
    "\n",
    "To run this tutorial interactiverly, run `pip install jupyter` to install Jupyter Notebook and then start it using `jupyter notebook`. Jupyter is great because you can do explortory Python analysis right from your browser:"
   ]
  },
  {
   "cell_type": "code",
   "execution_count": 1,
   "metadata": {},
   "outputs": [
    {
     "name": "stdout",
     "output_type": "stream",
     "text": [
      "4\n"
     ]
    }
   ],
   "source": [
    "x = 2\n",
    "print(x+2)"
   ]
  },
  {
   "cell_type": "code",
   "execution_count": null,
   "metadata": {},
   "outputs": [],
   "source": []
  },
  {
   "cell_type": "markdown",
   "metadata": {},
   "source": [
    "## Getting started\n",
    "\n",
    "Here are some notes and sample code to help you get started."
   ]
  },
  {
   "cell_type": "code",
   "execution_count": 2,
   "metadata": {},
   "outputs": [],
   "source": [
    "# Define some sample URLs to use in examples below\n",
    "SAMPLE_PDF_URL = 'https://media.readthedocs.org/pdf/kolibri/develop/kolibri.pdf'\n",
    "SAMPLE_HTML_URL = 'https://learningequality.org/'\n",
    "SAMPLE_IMG_URL = SAMPLE_HTML_URL + 'static/img/kickstarter/Kolibri-tablet.png'\n",
    "SAMPLE_JS_URL = SAMPLE_HTML_URL + 'static/js/less.js'"
   ]
  },
  {
   "cell_type": "markdown",
   "metadata": {},
   "source": [
    "### Downloader\n",
    "\n",
    "The script `utils/downloader.py` has a `read` function that can read from both\n",
    "urls and file paths. To use:"
   ]
  },
  {
   "cell_type": "code",
   "execution_count": 3,
   "metadata": {
    "scrolled": true
   },
   "outputs": [
    {
     "name": "stderr",
     "output_type": "stream",
     "text": [
      "Cache entry deserialization failed, entry ignored\n"
     ]
    }
   ],
   "source": [
    "from utils.downloader import read\n",
    "\n",
    "# read data from web\n",
    "pdf_contents = read(SAMPLE_PDF_URL)\n",
    "with open('./sampledoc.pdf', 'wb') as localfile:\n",
    "    localfile.write(pdf_contents)\n",
    "\n",
    "# read data from local file\n",
    "local_file_content = read('./sampledoc.pdf')\n",
    "assert pdf_contents == local_file_content, 'content differs!'\n",
    "\n",
    "# read html web page contents\n",
    "html_content = read(SAMPLE_HTML_URL)\n",
    "\n",
    "# Load js before getting contents\n",
    "html_dom_after_js_has_run = read(SAMPLE_HTML_URL, loadjs=True)"
   ]
  },
  {
   "cell_type": "markdown",
   "metadata": {},
   "source": [
    "The `loadjs` option will run the JavaScript code on the webpage before reading\n",
    "the contents of the page, which can be useful for scraping certain websites that\n",
    "depend on JavaScript to build the page DOM tree.\n",
    "\n",
    "If you need to use a custom session, you can also use the `session` option. This can\n",
    "be useful for sites that require login information.\n",
    "\n",
    "For more examples, see [`examples/openstax_souschef.py`](./examples/openstax_souschef.py) (json) and [`examples/wikipedia_souschef.py`](./examples/wikipedia_souschef.py) (html)."
   ]
  },
  {
   "cell_type": "code",
   "execution_count": null,
   "metadata": {},
   "outputs": [],
   "source": []
  },
  {
   "cell_type": "markdown",
   "metadata": {},
   "source": [
    "## Using the DataWriter\n",
    "\n",
    "The DataWriter (`utils.data_writer.DataWriter`) is a tool for creating channel\n",
    "`.zip` files in a standardized format. This includes creating folders, files,\n",
    "and `CSV` metadata files that will be used to create the channel on Kolibri Studio.\n",
    "\n",
    "\n",
    "\n",
    "### Step 1: Open a DataWriter\n",
    "\n",
    "The `DataWriter` class is meant to be used as a context manager.\n",
    "\n",
    "\n",
    "### Step 2: Create a Channel\n",
    "\n",
    "Next, you will need to add a channel using `add_channel`. Channels need the following arguments:\n",
    "  - `title` (str): Name of channel\n",
    "  - `source_id` (str): Channel's unique id\n",
    "  - `domain` (str): Who is providing the content\n",
    "  - `language` (str): Language of channel\n",
    "  - `description` (str): Description of the channel (optional)\n",
    "  - `thumbnail` (str): Path in zipfile to find thumbnail (optional)\n",
    "\n",
    "\n",
    "### Step 3: Add a Folder\n",
    "\n",
    "In order to add subdirectories, you will need to use the `add_folder` method\n",
    "from the DataWriter class. The method `add_folder` accepts the following arguments:\n",
    "  - `path` (str): Path in zip file to find folder\n",
    "  - `title` (str): Content's title\n",
    "  - `source_id` (str): Content's original ID (optional)\n",
    "  - `language` (str): Language of content (optional)\n",
    "  - `description` (str): Description of the content (optional)\n",
    "  - `thumbnail` (str): Path in zipfile to find thumbnail (optional)\n",
    "\n",
    "\n",
    "### Step 4: Add a File\n",
    "\n",
    "Finally, you will need to add files to the channel as learning resources.\n",
    "This can be accomplished using the `add_file` method, which accepts these arguments:\n",
    "  - `path` (str): Path in zip file to find folder\n",
    "  - `title` (str): Content's title\n",
    "  - `download_url` (str): Url or local path of file to download\n",
    "  - `license` (str): Content's license (use le_utils.constants.licenses)\n",
    "  - `license_description` (str): Description for content's license\n",
    "  - `copyright_holder` (str): Who owns the license to this content?\n",
    "  - `source_id` (str): Content's original ID (optional)\n",
    "  - `description` (str): Description of the content (optional)\n",
    "  - `author` (str): Author of content\n",
    "  - `language` (str): Language of content (optional)\n",
    "  - `thumbnail` (str): Path in zipfile to find thumbnail (optional)\n",
    "  - `write_data` (boolean): Indicate whether to make a node (optional)\n",
    "\n",
    "\n",
    "Putting this all together:"
   ]
  },
  {
   "cell_type": "code",
   "execution_count": 4,
   "metadata": {},
   "outputs": [],
   "source": [
    "from utils.data_writer import DataWriter\n",
    "from le_utils.constants import licenses\n",
    "\n",
    "CHANNEL_NAME = \"Quickstart Channel\"\n",
    "CHANNEL_SOURCE_ID = \"quickstart-demo-channel\"\n",
    "CHANNEL_DOMAIN = \"sampledomain.org\"\n",
    "CHANNEL_LANGUAGE = \"en\"\n",
    "CHANNEL_DESCRIPTION = \"What is this channel about?\"\n",
    "\n",
    "# Step 1\n",
    "with DataWriter() as writer:\n",
    "    # Step 2\n",
    "    writer.add_channel(CHANNEL_NAME, CHANNEL_SOURCE_ID, CHANNEL_DOMAIN, CHANNEL_LANGUAGE, description=CHANNEL_DESCRIPTION)\n",
    "\n",
    "    # Step 3\n",
    "    TOPIC_NAME = \"topic\"\n",
    "    writer.add_folder(CHANNEL_NAME + '/' + TOPIC_NAME, TOPIC_NAME)\n",
    "\n",
    "    # Step 4\n",
    "    PATH = CHANNEL_NAME + \"/\" + TOPIC_NAME + \"/filename.pdf\"\n",
    "    writer.add_file(PATH, \"Example PDF\", \"./sampledoc.pdf\", license=licenses.CC_BY, copyright_holder=\"Somebody\")"
   ]
  },
  {
   "cell_type": "markdown",
   "metadata": {},
   "source": [
    "\n",
    "## Extra Tools\n",
    "\n",
    "### PathBuilder\n",
    "\n",
    "The `PathBuilder` clas is a tool for tracking folder and file paths to write to\n",
    "the zip file. To initialize a PathBuilder object, you need to specify a channel name:"
   ]
  },
  {
   "cell_type": "code",
   "execution_count": 5,
   "metadata": {},
   "outputs": [],
   "source": [
    "from utils.path_builder import PathBuilder\n",
    "\n",
    "CHANNEL_NAME = \"Channel\"\n",
    "PATH = PathBuilder(channel_name=CHANNEL_NAME)"
   ]
  },
  {
   "cell_type": "markdown",
   "metadata": {},
   "source": [
    "You can now build this path using `open_folder`, which will append another item to the path:\n",
    "\n",
    "```\n",
    "...\n",
    "PATH.open_folder('Topic')         # str(PATH): 'Channel/Topic'\n",
    "```\n",
    "\n",
    "You can also set a path from the root directory:\n",
    "```\n",
    "...\n",
    "PATH.open_folder('Topic')         # str(PATH): 'Channel/Topic'\n",
    "PATH.set('Topic 2', 'Topic 3')    # str(PATH): 'Channel/Topic 2/Topic 3'\n",
    "```\n",
    "\n",
    "\n",
    "If you'd like to go back one step back in the path:\n",
    "```\n",
    "...\n",
    "PATH.set('Topic 1', 'Topic 2')    # str(PATH): 'Channel/Topic 1/Topic 2'\n",
    "PATH.go_to_parent_folder()        # str(PATH): 'Channel/Topic 1'\n",
    "PATH.go_to_parent_folder()        # str(PATH): 'Channel'\n",
    "PATH.go_to_parent_folder()        # str(PATH): 'Channel' (Can't go past root level)\n",
    "```\n",
    "\n",
    "To clear the path:\n",
    "```\n",
    "...\n",
    "PATH.set('Topic 1', 'Topic 2')    # str(PATH): 'Channel/Topic 1/Topic 2'\n",
    "PATH.reset()                      # str(PATH): 'Channel'\n",
    "```"
   ]
  },
  {
   "cell_type": "markdown",
   "metadata": {},
   "source": [
    "### HTMLWriter\n",
    "\n",
    "The HTMLWriter is a tool for generating zip files to be uploaded to Kolibri Studio\n",
    "\n",
    "First, open an HTMLWriter context. To write the main file, you will need to use the `write_index_contents` method\n",
    "\n",
    "You can also add other files (images, stylesheets, etc.) using using `write_file`, `write_contents` and `write_url`:"
   ]
  },
  {
   "cell_type": "code",
   "execution_count": 6,
   "metadata": {},
   "outputs": [
    {
     "name": "stdout",
     "output_type": "stream",
     "text": [
      "extra_head= <link href='styles/style.css' rel='stylesheet'></link>\n",
      "img_tag= <img src='img/sampleimg.png'>\n",
      "script_tag= <script src='src/less.js' type='text/javascript'></script>\n"
     ]
    }
   ],
   "source": [
    "from utils.html import HTMLWriter\n",
    "\n",
    "with HTMLWriter('./sampleHTML5ZipFile.zip') as zipper:\n",
    "    \n",
    "    # Example 1: add the main file (index.html)\n",
    "    contents = \"<html><head></head><body>Hello, World!</body></html>\"\n",
    "    zipper.write_index_contents(contents)\n",
    "    \n",
    "    # Example 2: add a stylesheet and a second html file\n",
    "    css_path = zipper.write_contents(\"style.css\", \"body{padding:30px}\", directory=\"styles\")\n",
    "    # css_path path is \"styles/style.css\"\n",
    "    extra_head = \"<link href='{}' rel='stylesheet'></link>\".format(css_path)\n",
    "    print('extra_head=', extra_head)\n",
    "    contents2 = \"<html><head>{extra_head}</head><body>Another page.</body></html>\".format(extra_head=extra_head)\n",
    "    zipper.write_contents(\"page2.html\", contents2)\n",
    "\n",
    "    # Examle 3: Adding a local file\n",
    "    img_data = read(SAMPLE_IMG_URL)\n",
    "    with open('./sampleimg.png', 'wb') as localfile:\n",
    "        localfile.write(img_data)\n",
    "    img_path = zipper.write_file('./sampleimg.png', directory=\"img\")\n",
    "    img_tag = \"<img src='{}'>\".format(img_path)\n",
    "    print('img_tag=', img_tag)  # Can be inserted as image\n",
    "\n",
    "    # Example 4: Adding a file directly from the web\n",
    "    script_path = zipper.write_url(SAMPLE_JS_URL, 'less.js', directory=\"src\")\n",
    "    script_tag = \"<script src='{}' type='text/javascript'></script>\".format(script_path)\n",
    "    print('script_tag=', script_tag)  # Can be inserted into html"
   ]
  },
  {
   "cell_type": "code",
   "execution_count": null,
   "metadata": {},
   "outputs": [],
   "source": []
  },
  {
   "cell_type": "code",
   "execution_count": null,
   "metadata": {},
   "outputs": [],
   "source": [
    "\n"
   ]
  },
  {
   "cell_type": "markdown",
   "metadata": {},
   "source": [
    "\n",
    "#### HTML parsing using BeautifulSoup\n",
    "\n",
    "BeautifulSoup is an HTML parsing library that allows to select various DOM elements,\n",
    "and extract their attributes and text contents. Here is some sample code for getting\n",
    "the text of the LE mission statement.\n",
    "\n",
    "The most commonly used parts of the BeautifulSoup API are:\n",
    "  - `.find(tag_name,  <spec>)`: find the next occurrence of the tag `tag_name` that\n",
    "     has attributes specified in `<spec>` (given as a dictionary), or can use the\n",
    "     shortcut options `id` and `class_` (note extra underscore).\n",
    "  - `.find_all(tag_name, <spec>)`: same as above but returns a list of all matching\n",
    "     elements. Use the optional keyword argument `recursive=False` to select only\n",
    "     immediate child nodes (instead of including children of children, etc.).\n",
    "  - `.next_sibling`: find the next element (for badly formatted pages with no useful selectors)\n",
    "  - `.get_text()` extracts the text contents of the node. See also helper method\n",
    "    called `get_text` that performs additional cleanup of newlines and spaces.\n",
    "  - `.extract()`: to remove a element from the DOM tree (useful to remove labels, and extra stuff)\n",
    "\n",
    "For more info about BeautifulSoup, see [the docs](https://www.crummy.com/software/BeautifulSoup/bs4/doc/).\n",
    "\n",
    "\n",
    "\n"
   ]
  },
  {
   "cell_type": "code",
   "execution_count": 7,
   "metadata": {},
   "outputs": [
    {
     "name": "stderr",
     "output_type": "stream",
     "text": [
      "Cache entry deserialization failed, entry ignored\n"
     ]
    },
    {
     "name": "stdout",
     "output_type": "stream",
     "text": [
      "Learning Equality is committed to enabling every person in the world to realize their right to a quality education, by supporting the creation, adaptation and distribution of open educational resources, and creating supportive tools for innovative pedagogy.\n"
     ]
    }
   ],
   "source": [
    "from bs4 import BeautifulSoup\n",
    "from utils.downloader import read\n",
    "\n",
    "html = read(SAMPLE_HTML_URL)\n",
    "page = BeautifulSoup(html, 'html.parser')\n",
    "\n",
    "main_div = page.find('div', {'id': 'body-content'})\n",
    "mission_el = main_div.find('h3', class_='our-mission')\n",
    "mission = mission_el.get_text().strip()\n",
    "print(mission)"
   ]
  },
  {
   "cell_type": "markdown",
   "metadata": {},
   "source": [
    "\n",
    "To print a list of all the links on the page, use the following code:"
   ]
  },
  {
   "cell_type": "code",
   "execution_count": 8,
   "metadata": {},
   "outputs": [
    {
     "name": "stdout",
     "output_type": "stream",
     "text": [
      " --> /\n",
      "About --> #\n",
      "Learning Equality --> /about/\n",
      "Core Values --> /about/values/\n",
      "Team --> /about/team/\n",
      "Board of Directors --> /about/board/\n",
      "Supporters and Friends --> /about/supporters/\n",
      "Translators --> /about/translators/\n",
      "Press --> /about/press/\n",
      "Jobs --> /about/jobs/\n",
      "Internships --> /about/internships/\n",
      "Kolibri --> /kolibri/\n",
      "KA Lite --> /ka-lite/\n",
      "Blog --> /blog/\n",
      "Forum --> https://community.learningequality.org/\n",
      " --> /indiegogo/\n",
      "LEARN MORE --> /kolibri/\n",
      " --> /ka-lite/\n",
      "LEARN MORE --> /ka-lite/\n",
      "SEE THE MAP --> https://learningequality.org/ka-lite/map/\n",
      "SHARE YOUR STORY --> https://learningequality.org/ka-lite/map/add/\n",
      "READ MORE --> https://learningequality.org/media/FUNSEPA_Final_Evaluation_Report_27May2016.pdf\n",
      "READ MORE --> media/Rapport-Etude-Cameroun_KL_ENG.pdf\n",
      "READ MORE --> https://www.povertyactionlab.org/sites/default/files/publications/Hirshleifer_Incentives%20for%20Output_Jan2016.pdf\n",
      "READ MORE --> http://www.vodafone.com/content/dam/vodafone/connected-education/vodafone_connected_education.pdf\n",
      "JOBS --> /about/jobs/\n",
      "INTERNSHIPS --> /about/internships/\n",
      "GITHUB --> https://github.com/learningequality\n",
      "TRANSLATE --> https://github.com/learningequality/ka-lite/wiki/Internationalization:-Contributing-Translations\n",
      "[email protected] --> /cdn-cgi/l/email-protection#8fe6e1e9e0cfe3eaeefde1e6e1e8eafefaeee3e6fbf6a1e0fde8\n",
      " --> https://www.facebook.com/learningequality\n",
      " --> https://twitter.com/LearnEQ\n",
      " --> https://github.com/learningequality\n",
      " --> https://medium.com/@Learning_Equality\n",
      "Learning Equality --> /about/\n",
      "Core Values --> /about/values/\n",
      "Meet the team --> /about/team/\n",
      "Board of Directors --> /about/board/\n",
      "Supporters and friends --> /about/supporters/\n",
      "Press and media --> /about/press/\n",
      "Internships --> /about/internships/\n",
      "Careers --> /about/jobs/\n",
      "About Kolibri --> /kolibri/\n",
      "About KA Lite --> /ka-lite/\n",
      "Download --> https://ka-lite.readthedocs.io/en/latest/installguide/install_main.html\n",
      "Demo KA Lite --> http://demo.learningequality.org/\n",
      "Deploy KA Lite --> /ka-lite/infographic/\n",
      "Read our blog --> /blog/\n",
      "Community forums --> https://community.learningequality.org/\n",
      "Help translate --> https://ka-lite.readthedocs.io/en/0.17.x/developer_docs/translation.html\n",
      "Report a bug --> https://github.com/learningequality/ka-lite/wiki/Report%20Bugs%20by%20Creating%20Issues\n",
      "Subscribe to newsletter --> https://learningequality.us6.list-manage.com/subscribe/post?u=023b9af05922dfc7f47a4fffb&id=d56041116d\n",
      "Donate --> /donate/\n",
      "Share your story! --> /ka-lite/map/add/\n",
      "Contact us --> /cdn-cgi/l/email-protection#b7ded9d1d8f7dbd2d6c5d9ded9d0d2c6c2d6dbdec3ce99d8c5d0\n",
      "Creative Commons Attribution 4.0 International license --> https://creativecommons.org/licenses/by/4.0/\n"
     ]
    }
   ],
   "source": [
    "links = page.find_all('a')\n",
    "for link in links:\n",
    "    print(link.get_text().strip(), '-->', link['href'])"
   ]
  },
  {
   "cell_type": "code",
   "execution_count": null,
   "metadata": {},
   "outputs": [],
   "source": []
  },
  {
   "cell_type": "code",
   "execution_count": null,
   "metadata": {},
   "outputs": [],
   "source": []
  }
 ],
 "metadata": {
  "kernelspec": {
   "display_name": "Python 3",
   "language": "python",
   "name": "python3"
  },
  "language_info": {
   "codemirror_mode": {
    "name": "ipython",
    "version": 3
   },
   "file_extension": ".py",
   "mimetype": "text/x-python",
   "name": "python",
   "nbconvert_exporter": "python",
   "pygments_lexer": "ipython3",
   "version": "3.6.2"
  }
 },
 "nbformat": 4,
 "nbformat_minor": 2
}
